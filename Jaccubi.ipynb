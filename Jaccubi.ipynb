{
 "cells": [
  {
   "cell_type": "code",
   "execution_count": 1,
   "id": "46caead2-c52c-44c2-b16b-63b4d911bb30",
   "metadata": {},
   "outputs": [],
   "source": [
    "import numpy as np\n"
   ]
  },
  {
   "cell_type": "code",
   "execution_count": 2,
   "id": "df199e28-3248-40ac-928b-f192d1e68070",
   "metadata": {},
   "outputs": [],
   "source": [
    "def jacobi(A, b, x0=None, tolerance=1e-10, max_iterations=1000):\n",
    "   \n",
    "    n = len(b)\n",
    "    if x0 is None:\n",
    "        x = np.zeros(n)\n",
    "    else:\n",
    "        x = x0\n",
    "\n",
    "    x_new = np.zeros(n)\n",
    "\n",
    "    for k in range(max_iterations):\n",
    "        for i in range(n):\n",
    "            sum1 = np.dot(A[i, :i], x[:i])\n",
    "            sum2 = np.dot(A[i, i+1:], x[i+1:])\n",
    "            x_new[i] = (b[i] - sum1 - sum2) / A[i, i]\n",
    "\n",
    "        # Check for convergence\n",
    "        if np.linalg.norm(x_new - x, ord=np.inf) < tolerance:\n",
    "            break\n",
    "\n",
    "        x = x_new.copy()\n",
    "\n",
    "    return x"
   ]
  },
  {
   "cell_type": "code",
   "execution_count": 3,
   "id": "f64735d7-0d59-4fdf-af6b-7be2df693572",
   "metadata": {},
   "outputs": [
    {
     "name": "stdout",
     "output_type": "stream",
     "text": [
      "Solution:\n",
      " [0.5 1.  0.5]\n",
      "Verification (A @ x):\n",
      " [4. 7. 3.]\n"
     ]
    }
   ],
   "source": [
    "if __name__ == \"__main__\":\n",
    "    A = np.array([[4, 1, 2],\n",
    "                  [3, 5, 1],\n",
    "                  [1, 1, 3]], dtype=float)\n",
    "    \n",
    "    b = np.array([4, 7, 3], dtype=float)\n",
    "    \n",
    "    x0 = np.zeros(len(b))  # Initial guess\n",
    "    solution = jacobi(A, b, x0)\n",
    "    \n",
    "    print(\"Solution:\\n\", solution)\n",
    "    print(\"Verification (A @ x):\\n\", np.dot(A, solution))"
   ]
  },
  {
   "cell_type": "code",
   "execution_count": null,
   "id": "2bc9cd59-465d-4271-9f2e-fae272a9da8a",
   "metadata": {},
   "outputs": [],
   "source": []
  }
 ],
 "metadata": {
  "kernelspec": {
   "display_name": "Python 3 (ipykernel)",
   "language": "python",
   "name": "python3"
  },
  "language_info": {
   "codemirror_mode": {
    "name": "ipython",
    "version": 3
   },
   "file_extension": ".py",
   "mimetype": "text/x-python",
   "name": "python",
   "nbconvert_exporter": "python",
   "pygments_lexer": "ipython3",
   "version": "3.11.0"
  }
 },
 "nbformat": 4,
 "nbformat_minor": 5
}
