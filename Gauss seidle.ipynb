{
 "cells": [
  {
   "cell_type": "code",
   "execution_count": 1,
   "id": "99c4f113-7098-45c6-8435-695388a972d1",
   "metadata": {},
   "outputs": [],
   "source": [
    "import numpy as np"
   ]
  },
  {
   "cell_type": "code",
   "execution_count": 2,
   "id": "a49368af-b6ae-45d1-b7ce-c132a44363aa",
   "metadata": {},
   "outputs": [],
   "source": [
    "def gauss_seidel(A, b, x0=None, tolerance=1e-10, max_iterations=1000):\n",
    "   \n",
    "    n = len(b)\n",
    "    if x0 is None:\n",
    "        x = np.zeros(n)\n",
    "    else:\n",
    "        x = x0\n",
    "\n",
    "    for k in range(max_iterations):\n",
    "        x_old = x.copy()\n",
    "        \n",
    "        for i in range(n):\n",
    "            sum1 = np.dot(A[i, :i], x[:i])\n",
    "            sum2 = np.dot(A[i, i+1:], x_old[i+1:])\n",
    "            x[i] = (b[i] - sum1 - sum2) / A[i, i]\n",
    "        \n",
    "        # Check for convergence\n",
    "        if np.linalg.norm(x - x_old, ord=np.inf) < tolerance:\n",
    "            break\n",
    "    \n",
    "    return x"
   ]
  },
  {
   "cell_type": "code",
   "execution_count": 3,
   "id": "208778c5-2d3c-48f1-9ed6-1aae358578c0",
   "metadata": {},
   "outputs": [
    {
     "name": "stdout",
     "output_type": "stream",
     "text": [
      "Solution:\n",
      " [0.5 1.  0.5]\n",
      "Verification (A @ x):\n",
      " [4. 7. 3.]\n"
     ]
    }
   ],
   "source": [
    "# Example usage\n",
    "if __name__ == \"__main__\":\n",
    "    A = np.array([[4, 1, 2],\n",
    "                  [3, 5, 1],\n",
    "                  [1, 1, 3]], dtype=float)\n",
    "    \n",
    "    b = np.array([4, 7, 3], dtype=float)\n",
    "    \n",
    "    x0 = np.zeros(len(b))  # Initial guess\n",
    "    solution = gauss_seidel(A, b, x0)\n",
    "    \n",
    "    print(\"Solution:\\n\", solution)\n",
    "    print(\"Verification (A @ x):\\n\", np.dot(A, solution))"
   ]
  },
  {
   "cell_type": "code",
   "execution_count": null,
   "id": "9001ac22-7011-485e-acfe-68bea89da633",
   "metadata": {},
   "outputs": [],
   "source": []
  }
 ],
 "metadata": {
  "kernelspec": {
   "display_name": "Python 3 (ipykernel)",
   "language": "python",
   "name": "python3"
  },
  "language_info": {
   "codemirror_mode": {
    "name": "ipython",
    "version": 3
   },
   "file_extension": ".py",
   "mimetype": "text/x-python",
   "name": "python",
   "nbconvert_exporter": "python",
   "pygments_lexer": "ipython3",
   "version": "3.11.0"
  }
 },
 "nbformat": 4,
 "nbformat_minor": 5
}
