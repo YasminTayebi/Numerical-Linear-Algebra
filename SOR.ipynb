{
 "cells": [
  {
   "cell_type": "code",
   "execution_count": 19,
   "id": "c0f48e76-7997-42f3-9808-ca6461d8e368",
   "metadata": {},
   "outputs": [
    {
     "name": "stderr",
     "output_type": "stream",
     "text": [
      "C:\\Users\\SKY\\AppData\\Local\\Temp\\ipykernel_8856\\3281440670.py:25: RuntimeWarning: invalid value encountered in sqrt\n",
      "  omega = 2 / (1 + np.sqrt(1 - (max_eigenvalue ** 2)))\n"
     ]
    },
    {
     "ename": "ValueError",
     "evalue": "cannot convert float NaN to integer",
     "output_type": "error",
     "traceback": [
      "\u001b[1;31m---------------------------------------------------------------------------\u001b[0m",
      "\u001b[1;31mValueError\u001b[0m                                Traceback (most recent call last)",
      "Cell \u001b[1;32mIn[19], line 45\u001b[0m\n\u001b[0;32m     42\u001b[0m     iteration \u001b[38;5;241m+\u001b[39m\u001b[38;5;241m=\u001b[39m \u001b[38;5;241m1\u001b[39m\n\u001b[0;32m     43\u001b[0m   \u001b[38;5;28;01mreturn\u001b[39;00m X, iteration\n\u001b[1;32m---> 45\u001b[0m solution, iterations \u001b[38;5;241m=\u001b[39m \u001b[43msor_method\u001b[49m\u001b[43m(\u001b[49m\u001b[43mA\u001b[49m\u001b[43m,\u001b[49m\u001b[43m \u001b[49m\u001b[43mb\u001b[49m\u001b[43m,\u001b[49m\u001b[43m \u001b[49m\u001b[43momega\u001b[49m\u001b[43m,\u001b[49m\u001b[43m \u001b[49m\u001b[43mX\u001b[49m\u001b[43m,\u001b[49m\u001b[43m \u001b[49m\u001b[43maccuracy\u001b[49m\u001b[43m)\u001b[49m\n\u001b[0;32m     47\u001b[0m \u001b[38;5;28mprint\u001b[39m(\u001b[38;5;124mf\u001b[39m\u001b[38;5;124m\"\u001b[39m\u001b[38;5;124mSolution: \u001b[39m\u001b[38;5;132;01m{\u001b[39;00msolution\u001b[38;5;132;01m}\u001b[39;00m\u001b[38;5;124m\"\u001b[39m)\n\u001b[0;32m     48\u001b[0m \u001b[38;5;28mprint\u001b[39m(\u001b[38;5;124mf\u001b[39m\u001b[38;5;124m\"\u001b[39m\u001b[38;5;124mIterations required: \u001b[39m\u001b[38;5;132;01m{\u001b[39;00miterations\u001b[38;5;132;01m}\u001b[39;00m\u001b[38;5;124m\"\u001b[39m)\n",
      "Cell \u001b[1;32mIn[19], line 39\u001b[0m, in \u001b[0;36msor_method\u001b[1;34m(A, b, omega, X, accuracy)\u001b[0m\n\u001b[0;32m     37\u001b[0m   \u001b[38;5;28;01mfor\u001b[39;00m j \u001b[38;5;129;01min\u001b[39;00m \u001b[38;5;28mrange\u001b[39m(n):\n\u001b[0;32m     38\u001b[0m     \u001b[38;5;28;01mif\u001b[39;00m j \u001b[38;5;241m!=\u001b[39m i: sigma \u001b[38;5;241m+\u001b[39m\u001b[38;5;241m=\u001b[39m A[i, j] \u001b[38;5;241m*\u001b[39m X[j]\n\u001b[1;32m---> 39\u001b[0m   \u001b[43mX\u001b[49m\u001b[43m[\u001b[49m\u001b[43mi\u001b[49m\u001b[43m]\u001b[49m \u001b[38;5;241m=\u001b[39m (\u001b[38;5;241m1\u001b[39m \u001b[38;5;241m-\u001b[39m omega) \u001b[38;5;241m*\u001b[39m X[i] \u001b[38;5;241m+\u001b[39m (omega \u001b[38;5;241m/\u001b[39m A[i, i]) \u001b[38;5;241m*\u001b[39m (b[i] \u001b[38;5;241m-\u001b[39m sigma)\n\u001b[0;32m     40\u001b[0m \u001b[38;5;66;03m# Check for convergence afterward\u001b[39;00m\n\u001b[0;32m     41\u001b[0m \u001b[38;5;28;01mif\u001b[39;00m np\u001b[38;5;241m.\u001b[39mlinalg\u001b[38;5;241m.\u001b[39mnorm(X_new \u001b[38;5;241m-\u001b[39m X) \u001b[38;5;241m<\u001b[39m accuracy: \u001b[38;5;28;01mbreak\u001b[39;00m\n",
      "\u001b[1;31mValueError\u001b[0m: cannot convert float NaN to integer"
     ]
    }
   ],
   "source": [
    "import numpy as np\n",
    "\n",
    "# Coefficient matrix\n",
    "A = np.array([[4, 3, 0],\n",
    "              [3, 4, -1],\n",
    "              [0, -1, 4]])\n",
    "\n",
    "# Right-hand side vector\n",
    "b = np.array([24, 30, -24])\n",
    "\n",
    "# Initial guess\n",
    "# X = np.array([1.000, 1.000, 1.000])\n",
    "X = np.array([1.000, 1.000, 1.000], dtype=float)\n",
    "\n",
    "# Accuracy criterion\n",
    "accuracy = 0.0008\n",
    "\n",
    "# Calculate omega (ω)\n",
    "def calculate_omega(A):\n",
    "    max_eigenvalue = max(abs(np.linalg.eigvals(A)))\n",
    "    omega = 2 / (1 + np.sqrt(1 - (max_eigenvalue ** 2)))\n",
    "    return omega\n",
    "\n",
    "omega = calculate_omega(A)\n",
    "\n",
    "# SOR method\n",
    "def sor_method(A, b, omega, X, accuracy):\n",
    "    n = len(b)\n",
    "    iteration = 0\n",
    "    while True:\n",
    "        X_new = np.copy(X)\n",
    "        for i in range(n):\n",
    "            sigma = 0\n",
    "            for j in range(n):\n",
    "                if j != i:\n",
    "                    sigma += A[i][j] * X_new[j]\n",
    "            X_new[i] = (1 - omega) * X[i] + (omega / A[i][i]) * (b[i] - sigma)\n",
    "        \n",
    "        # Check for convergence\n",
    "        if np.linalg.norm(X_new - X) < accuracy:\n",
    "            break\n",
    "        \n",
    "        X = X_new\n",
    "        iteration += 1\n",
    "\n",
    "    return X_new, iteration\n",
    "\n",
    "solution, iterations = sor_method(A, b, omega, X, accuracy)\n",
    "\n",
    "print(f\"Solution: {solution}\")\n",
    "print(f\"Iterations required: {iterations}\")"
   ]
  }
 ],
 "metadata": {
  "kernelspec": {
   "display_name": "Python 3 (ipykernel)",
   "language": "python",
   "name": "python3"
  },
  "language_info": {
   "codemirror_mode": {
    "name": "ipython",
    "version": 3
   },
   "file_extension": ".py",
   "mimetype": "text/x-python",
   "name": "python",
   "nbconvert_exporter": "python",
   "pygments_lexer": "ipython3",
   "version": "3.11.0"
  }
 },
 "nbformat": 4,
 "nbformat_minor": 5
}
