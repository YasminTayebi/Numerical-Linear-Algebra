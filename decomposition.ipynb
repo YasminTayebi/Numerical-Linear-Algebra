{
 "cells": [
  {
   "cell_type": "code",
   "execution_count": 1,
   "id": "a804ae68-3cad-4709-a1de-d0827ff68129",
   "metadata": {},
   "outputs": [],
   "source": [
    "import numpy as np"
   ]
  },
  {
   "cell_type": "code",
   "execution_count": 2,
   "id": "b381bb9f-880c-4278-bb09-8c8da6cb50ee",
   "metadata": {},
   "outputs": [],
   "source": [
    "def cholesky_decomposition(matrix):\n",
    "    \n",
    "    # Ensure the matrix is square\n",
    "    if matrix.shape[0] != matrix.shape[1]:\n",
    "        raise ValueError(\"Matrix must be square\")\n",
    "\n",
    "    # Ensure the matrix is positive definite\n",
    "    if not np.all(np.linalg.eigvals(matrix) > 0):\n",
    "        raise ValueError(\"Matrix must be positive definite\")\n",
    "\n",
    "    n = matrix.shape[0]\n",
    "    L = np.zeros_like(matrix)\n",
    "\n",
    "    for i in range(n):\n",
    "        for j in range(i + 1):\n",
    "            if i == j:\n",
    "                L[i, j] = np.sqrt(matrix[i, i] - np.sum(L[i, :j] ** 2))\n",
    "            else:\n",
    "                L[i, j] = (matrix[i, j] - np.sum(L[i, :j] * L[j, :j])) / L[j, j]\n",
    "\n",
    "    return L"
   ]
  },
  {
   "cell_type": "code",
   "execution_count": 3,
   "id": "2b289657-6968-46f3-9fbc-75ae5c828461",
   "metadata": {},
   "outputs": [
    {
     "name": "stdout",
     "output_type": "stream",
     "text": [
      "Cholesky decomposition (L):\n",
      " [[ 2  0  0]\n",
      " [ 6  1  0]\n",
      " [-8  5  3]]\n",
      "Verification (L * L.T):\n",
      " [[  4  12 -16]\n",
      " [ 12  37 -43]\n",
      " [-16 -43  98]]\n"
     ]
    }
   ],
   "source": [
    "# Example usage:\n",
    "if __name__ == \"__main__\":\n",
    "    A = np.array([[4, 12, -16],\n",
    "                  [12, 37, -43],\n",
    "                  [-16, -43, 98]])\n",
    "\n",
    "    try:\n",
    "        L = cholesky_decomposition(A)\n",
    "        print(\"Cholesky decomposition (L):\\n\", L)\n",
    "        print(\"Verification (L * L.T):\\n\", np.dot(L, L.T))\n",
    "    except ValueError as e:\n",
    "        print(e)"
   ]
  },
  {
   "cell_type": "code",
   "execution_count": null,
   "id": "348d56e2-1c42-4e3b-b987-9b5028b56714",
   "metadata": {},
   "outputs": [],
   "source": []
  }
 ],
 "metadata": {
  "kernelspec": {
   "display_name": "Python 3 (ipykernel)",
   "language": "python",
   "name": "python3"
  },
  "language_info": {
   "codemirror_mode": {
    "name": "ipython",
    "version": 3
   },
   "file_extension": ".py",
   "mimetype": "text/x-python",
   "name": "python",
   "nbconvert_exporter": "python",
   "pygments_lexer": "ipython3",
   "version": "3.11.0"
  }
 },
 "nbformat": 4,
 "nbformat_minor": 5
}
